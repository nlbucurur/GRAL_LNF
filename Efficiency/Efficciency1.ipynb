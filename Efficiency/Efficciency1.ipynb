{
 "cells": [
  {
   "cell_type": "code",
   "execution_count": null,
   "metadata": {
    "vscode": {
     "languageId": "python"
    }
   },
   "outputs": [],
   "source": [
    "#include <iostream>\n",
    "#include <string>\n",
    "#include <stdio.h>"
   ]
  },
  {
   "cell_type": "code",
   "execution_count": 1,
   "metadata": {},
   "outputs": [
    {
     "name": "stdout",
     "output_type": "stream",
     "text": [
      "******************************************************************************\n",
      "*Tree    :raw       : rawapvdata                                             *\n",
      "*Entries :    15976 : Total =        31315138 bytes  File  Size =   15214339 *\n",
      "*        :          : Tree compression factor =   2.06                       *\n",
      "******************************************************************************\n",
      "*Br    0 :apv_evt   : apv_evt/i                                              *\n",
      "*Entries :    15976 : Total  Size=      64616 bytes  File Size  =      22583 *\n",
      "*Baskets :        3 : Basket Size=      32000 bytes  Compression=   2.84     *\n",
      "*............................................................................*\n",
      "*Br    1 :time_s    : time_s/I                                               *\n",
      "*Entries :    15976 : Total  Size=      64609 bytes  File Size  =      31184 *\n",
      "*Baskets :        3 : Basket Size=      32000 bytes  Compression=   2.06     *\n",
      "*............................................................................*\n",
      "*Br    2 :time_us   : time_us/I                                              *\n",
      "*Entries :    15976 : Total  Size=      64616 bytes  File Size  =      51234 *\n",
      "*Baskets :        3 : Basket Size=      32000 bytes  Compression=   1.25     *\n",
      "*............................................................................*\n",
      "*Br    3 :apv_fecNo : vector<unsigned int>                                   *\n",
      "*Entries :    15976 : Total  Size=    1585029 bytes  File Size  =     124614 *\n",
      "*Baskets :       52 : Basket Size=      32000 bytes  Compression=  12.71     *\n",
      "*............................................................................*\n",
      "*Br    4 :apv_id    : vector<unsigned int>                                   *\n",
      "*Entries :    15976 : Total  Size=    1584861 bytes  File Size  =     298018 *\n",
      "*Baskets :       52 : Basket Size=      32000 bytes  Compression=   5.31     *\n",
      "*............................................................................*\n",
      "*Br    5 :apv_ch    : vector<unsigned int>                                   *\n",
      "*Entries :    15976 : Total  Size=    1584861 bytes  File Size  =     548889 *\n",
      "*Baskets :       52 : Basket Size=      32000 bytes  Compression=   2.88     *\n",
      "*............................................................................*\n",
      "*Br    6 :mm_id     : vector<string>                                         *\n",
      "*Entries :    15976 : Total  Size=    3186676 bytes  File Size  =     391355 *\n",
      "*Baskets :      102 : Basket Size=      32000 bytes  Compression=   8.14     *\n",
      "*............................................................................*\n",
      "*Br    7 :mm_readout : vector<unsigned int>                                  *\n",
      "*Entries :    15976 : Total  Size=    1585085 bytes  File Size  =     123685 *\n",
      "*Baskets :       52 : Basket Size=      32000 bytes  Compression=  12.80     *\n",
      "*............................................................................*\n",
      "*Br    8 :mm_strip  : vector<unsigned int>                                   *\n",
      "*Entries :    15976 : Total  Size=    1584973 bytes  File Size  =     608837 *\n",
      "*Baskets :       52 : Basket Size=      32000 bytes  Compression=   2.60     *\n",
      "*............................................................................*\n",
      "*Br    9 :apv_q     : vector<vector<short> >                                 *\n",
      "*Entries :    15976 : Total  Size=   19944355 bytes  File Size  =   12984706 *\n",
      "*Baskets :      636 : Basket Size=      32000 bytes  Compression=   1.53     *\n",
      "*............................................................................*\n",
      "*Br   10 :apv_presamples : apv_presamples/i                                  *\n",
      "*Entries :    15976 : Total  Size=      64665 bytes  File Size  =      18747 *\n",
      "*Baskets :        3 : Basket Size=      32000 bytes  Compression=   3.42     *\n",
      "*............................................................................*\n"
     ]
    }
   ],
   "source": [
    "TFile *file = TFile::Open(\"run6578.root\");\n",
    "TTree *tree = (TTree *) file->Get(\"raw\");\n",
    "tree->Print();"
   ]
  },
  {
   "cell_type": "code",
   "execution_count": 4,
   "metadata": {},
   "outputs": [
    {
     "name": "stdout",
     "output_type": "stream",
     "text": [
      "15976\n"
     ]
    }
   ],
   "source": [
    "vector<unsigned int> *apv_id = nullptr;\n",
    "tree->SetBranchAddress(\"apv_id\", &apv_id);\n",
    "\n",
    "int n = (Int_t)tree->GetEntries();\n",
    "\tcout << n << endl;\n",
    "\t\n",
    "\t//TCanvas *canvas = new TCanvas(\"\", \"\", 800, 600);\n",
    "\t//TH1I *hist = new TH1I(\"apv_id\",\"apv_id_title\", 100, 0, n); \n",
    "\t\n",
    "\tint nbytes; \n",
    "\tfor (int i=0; i<n; i++)\n",
    "\t{\n",
    "\t\tnbytes = tree->GetEntry(i);\n",
    "\t\tfor (int j=0; j<apv_id->size(); j++)\n",
    "\t\t{\n",
    "\t\t\t//cout << (*apv_id)[j] << \"\\t\";\n",
    "\t\t}\n",
    "\t\t//cout << \"\\n\" << endl;\n",
    "\t\t//hist->Fill(apv_id->size());\n",
    "\t}\n",
    "\t\n",
    "\t//hist->Draw();\n",
    "\t//canvas->Draw();\n"
   ]
  }
 ],
 "metadata": {
  "kernelspec": {
   "display_name": "ROOT C++",
   "language": "c++",
   "name": "root"
  },
  "language_info": {
   "codemirror_mode": "text/x-c++src",
   "file_extension": ".C",
   "mimetype": " text/x-c++src",
   "name": "c++"
  }
 },
 "nbformat": 4,
 "nbformat_minor": 2
}
