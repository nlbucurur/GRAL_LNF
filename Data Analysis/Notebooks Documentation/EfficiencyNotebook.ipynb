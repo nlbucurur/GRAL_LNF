{
 "cells": [
  {
   "cell_type": "code",
   "execution_count": null,
   "metadata": {
    "vscode": {
     "languageId": "python"
    }
   },
   "outputs": [],
   "source": [
    "#include <iostream>\n",
    "#include <unordered_set>\n",
    "#include <ROOT/RDataFrame.hxx> // For modern data frame tool\n",
    "#include <cmath>              // Include for sqrt function"
   ]
  },
  {
   "cell_type": "code",
   "execution_count": 1,
   "metadata": {},
   "outputs": [
    {
     "name": "stdout",
     "output_type": "stream",
     "text": [
      "******************************************************************************\n",
      "*Tree    :raw       : rawapvdata                                             *\n",
      "*Entries :    15976 : Total =        31315138 bytes  File  Size =   15214339 *\n",
      "*        :          : Tree compression factor =   2.06                       *\n",
      "******************************************************************************\n",
      "*Br    0 :apv_evt   : apv_evt/i                                              *\n",
      "*Entries :    15976 : Total  Size=      64616 bytes  File Size  =      22583 *\n",
      "*Baskets :        3 : Basket Size=      32000 bytes  Compression=   2.84     *\n",
      "*............................................................................*\n",
      "*Br    1 :time_s    : time_s/I                                               *\n",
      "*Entries :    15976 : Total  Size=      64609 bytes  File Size  =      31184 *\n",
      "*Baskets :        3 : Basket Size=      32000 bytes  Compression=   2.06     *\n",
      "*............................................................................*\n",
      "*Br    2 :time_us   : time_us/I                                              *\n",
      "*Entries :    15976 : Total  Size=      64616 bytes  File Size  =      51234 *\n",
      "*Baskets :        3 : Basket Size=      32000 bytes  Compression=   1.25     *\n",
      "*............................................................................*\n",
      "*Br    3 :apv_fecNo : vector<unsigned int>                                   *\n",
      "*Entries :    15976 : Total  Size=    1585029 bytes  File Size  =     124614 *\n",
      "*Baskets :       52 : Basket Size=      32000 bytes  Compression=  12.71     *\n",
      "*............................................................................*\n",
      "*Br    4 :apv_id    : vector<unsigned int>                                   *\n",
      "*Entries :    15976 : Total  Size=    1584861 bytes  File Size  =     298018 *\n",
      "*Baskets :       52 : Basket Size=      32000 bytes  Compression=   5.31     *\n",
      "*............................................................................*\n",
      "*Br    5 :apv_ch    : vector<unsigned int>                                   *\n",
      "*Entries :    15976 : Total  Size=    1584861 bytes  File Size  =     548889 *\n",
      "*Baskets :       52 : Basket Size=      32000 bytes  Compression=   2.88     *\n",
      "*............................................................................*\n",
      "*Br    6 :mm_id     : vector<string>                                         *\n",
      "*Entries :    15976 : Total  Size=    3186676 bytes  File Size  =     391355 *\n",
      "*Baskets :      102 : Basket Size=      32000 bytes  Compression=   8.14     *\n",
      "*............................................................................*\n",
      "*Br    7 :mm_readout : vector<unsigned int>                                  *\n",
      "*Entries :    15976 : Total  Size=    1585085 bytes  File Size  =     123685 *\n",
      "*Baskets :       52 : Basket Size=      32000 bytes  Compression=  12.80     *\n",
      "*............................................................................*\n",
      "*Br    8 :mm_strip  : vector<unsigned int>                                   *\n",
      "*Entries :    15976 : Total  Size=    1584973 bytes  File Size  =     608837 *\n",
      "*Baskets :       52 : Basket Size=      32000 bytes  Compression=   2.60     *\n",
      "*............................................................................*\n",
      "*Br    9 :apv_q     : vector<vector<short> >                                 *\n",
      "*Entries :    15976 : Total  Size=   19944355 bytes  File Size  =   12984706 *\n",
      "*Baskets :      636 : Basket Size=      32000 bytes  Compression=   1.53     *\n",
      "*............................................................................*\n",
      "*Br   10 :apv_presamples : apv_presamples/i                                  *\n",
      "*Entries :    15976 : Total  Size=      64665 bytes  File Size  =      18747 *\n",
      "*Baskets :        3 : Basket Size=      32000 bytes  Compression=   3.42     *\n",
      "*............................................................................*\n"
     ]
    }
   ],
   "source": [
    "// Open the ROOT file containing the tree.\n",
    "TFile *file = TFile::Open(\"../Data/run6578.root\");\n",
    "if (!file || file->IsZombie()) { // Check if the file is opened successfully.\n",
    "    std::cerr << \"Error opening file or file not found.\" << std::endl;\n",
    "    return;\n",
    "}\n",
    "\n",
    "// Retrieve the tree named \"raw\" from the file.\n",
    "TTree *tree = (TTree*)file->Get(\"raw\");\n",
    "tree->Print();\n",
    "if (!tree) { // Check if the tree exists.\n",
    "    std::cerr << \"Tree 'raw' not found in file.\" << std::endl;\n",
    "    file->Close(); // Close the file if the tree is not found.\n",
    "    return; // Exit the function.\n",
    "}"
   ]
  },
  {
   "cell_type": "markdown",
   "metadata": {},
   "source": [
    "Documentation [ROOT::RDataFrame](https://root.cern/doc/master/classROOT_1_1RDataFrame.html)\n",
    "\n",
    "ROOT's RDataFrame offers a modern, high-level interface for analysis of data stored in TTree , CSV and other data formats, in C++ or Python.\n",
    "\n",
    "In addition, multi-threading and other low-level optimisations allow users to exploit all the resources available on their machines completely transparently.\n",
    "Skip to the class reference or keep reading for the user guide."
   ]
  },
  {
   "cell_type": "code",
   "execution_count": 2,
   "metadata": {},
   "outputs": [],
   "source": [
    "// Create a data frame from the TTree for easier processing.\n",
    "ROOT::RDataFrame df(*tree);"
   ]
  },
  {
   "cell_type": "markdown",
   "metadata": {},
   "source": [
    "**hasDetector13 Function**\n",
    "\n",
    "1. **Lambda Expression:** The `hasDetector13` is a lambda expression, which is a convenient way to define an anonymous (unnamed) function right at the location where it is needed. In C++, lambda expressions are a feature that allows you to write inline functions which can capture variables from the surrounding context.\n",
    "2. **Function Signature:** This lambda takes a single parameter:\n",
    "    * `const std::vector<unsigned int>& ids` - A constant reference to a vector of unsigned integers. The const keyword means the vector cannot be modified by the lambda, and `&` indicates that it is passed by reference, which avoids copying the entire vector and thus is more efficient.\n",
    "2. **Function Body::** Inside the lambda, the function uses the std::find algorithm to search through the vector ids:\n",
    "    * `std::find(ids.begin(), ids.end(), 13)` - This call to `std::find` starts looking at the beginning of the vector `(ids.begin())` and continues to the end of the vector `(ids.end())`, searching for the integer `13`.\n",
    "    * The result of `std::find` is compared to `ids.end()`. The `std::find` function returns an iterator to the first element in the range that matches the value (`13` in this case). If no such element is found, `std::find` returns the end iterator `(ids.end())`, which represents a position one past the last element of the vector.\n",
    "4. **Return Value:** The lambda returns a boolean value:\n",
    "    * If `std::find` does not return `ids.end()`, it means the value `13` was found in the vector, so the lambda returns true.\n",
    "    * If `std::find` returns `ids.end()`, it means the value `13` was not found in the vector, so the lambda returns false.\n"
   ]
  },
  {
   "cell_type": "code",
   "execution_count": 3,
   "metadata": {},
   "outputs": [],
   "source": [
    "// Lambda function to check if detector with id 13 is activated in the event.\n",
    "auto hasDetector13 = [](const std::vector<unsigned int>& ids) {\n",
    "    return std::find(ids.begin(), ids.end(), 13) != ids.end();\n",
    "};"
   ]
  },
  {
   "cell_type": "markdown",
   "metadata": {},
   "source": [
    "`hasDetector13` lambda function is used to filter events in a `ROOT::RDataFrame`. It is passed as a filter criterion to `df.Filter()`, which processes each entry of the data frame:"
   ]
  },
  {
   "cell_type": "code",
   "execution_count": 4,
   "metadata": {},
   "outputs": [],
   "source": [
    "// Filter the data frame to include only those events where detector 13 is activated.\n",
    "auto filtered = df.Filter(hasDetector13, {\"apv_id\"});\n"
   ]
  },
  {
   "cell_type": "markdown",
   "metadata": {},
   "source": [
    "Here, `df.Filter()` applies `hasDetector13` to each entry of the data frame, and `hasDetector13` checks whether the vector `apv_id` from each entry contains the number `13`. Only those entries where hasDetector13 returns true (i.e., entries where detector 13 is activated) are included in the filtered data frame. This filtered data frame is then used for further processing, ensuring that only relevant data (where detector 13 is active) is considered.\n",
    "\n",
    "This selective filtering is crucial for your analysis, particularly when calculating efficiencies, as it focuses on counting and analyzing only those events that meet a specific condition (activation of detector 13)."
   ]
  },
  {
   "cell_type": "markdown",
   "metadata": {},
   "source": [
    "[**Unordered map** ](https://www.geeksforgeeks.org/unordered_map-in-cpp-stl/)\n",
    "\n",
    "Unordered maps are associative containers that store elements formed by the combination of a key value and a mapped value, and which allows for fast retrieval of individual elements based on their keys.\n",
    "\n",
    "In an unordered_map, the key value is generally used to uniquely identify the element, while the mapped value is an object with the content associated to this key. Types of key and mapped value may differ."
   ]
  },
  {
   "cell_type": "code",
   "execution_count": 5,
   "metadata": {},
   "outputs": [],
   "source": [
    "// Map to store counts of activations for each detector.\n",
    "std::unordered_map<int, int> counts;"
   ]
  },
  {
   "cell_type": "markdown",
   "metadata": {},
   "source": [
    "[**Foreach**](https://root.cern/doc/master/classROOT_1_1RDF_1_1RInterface.html#ad2822a7ccb8a9afdf3e5b2ea321886ca)\n",
    "Execute a user-defined function on each entry (instant action).\n",
    "\n",
    "**Lambda Function in Foreach**\n",
    "\n",
    "1. **Lambda Introduction `[&]`:**\n",
    "    * `[&]` is the capture clause of the lambda. The ampersand `&` signifies that the lambda captures all external variables used within the lambda by reference. This allows the lambda to modify these external variables. In this context, it allows the lambda to modify the `counts` map that is defined outside the lambda.\n",
    "2. **Parameter:**\n",
    "    * **`const std::vector<unsigned int>& ids`:** The lambda takes a single parameter, `ids`, which is a reference to a `std::vector` of unsigned integers. The `const` qualifier indicates that the vector cannot be modified by the lambda. This vector is expected to contain the IDs of the detectors activated in a given event.\n",
    "3. **Using `std::unordered_set`:** \n",
    "    * **`std::unordered_set<int> unique_ids(ids.begin(), ids.end());`:** This line creates a set of integers `(unique_ids)` initialized with the elements from the vector `ids`. The purpose of using a set is to eliminate any duplicate IDs from the vector, as sets only store unique elements. This ensures each detector ID is counted only once per event, even if it appears multiple times in the ids vector.\n",
    "4. **Processing Detector IDs:**\n",
    "    * **`for (int id : {8,9,10,11,12,13})`:** This loop iterates over a fixed list of detector IDs (from 8 to 13). These represent the specific detectors of interest.\n",
    "    * **`if (unique_ids.count(id))`:** Inside the loop, the code checks if the current `id` from the list is present in the `unique_ids` set using the count method, which returns 1 if the element is found and 0 otherwise.\n",
    "    * **`counts[id]++`**: If the detector ID is found in the set, the corresponding entry in the counts map is incremented. This map (`counts`) is used to tally how many events each detector was activated in.\n",
    "\n",
    "The main goal of this lambda function is to analyze each event's detector activations and increment counts for the specific detectors of interest, ensuring each detector is counted only once per event. This data is then used to calculate efficiencies, reflecting the proportion of events (where detector 13 is activated) in which each of the other detectors was also activated.\n",
    "\n"
   ]
  },
  {
   "cell_type": "code",
   "execution_count": 6,
   "metadata": {},
   "outputs": [
    {
     "name": "stdout",
     "output_type": "stream",
     "text": [
      "number of entries where detector 13 was hit: 14900\n"
     ]
    }
   ],
   "source": [
    "// Process each entry in the filtered data frame.\n",
    "filtered.Foreach([&](const std::vector<unsigned int>& ids) {\n",
    "    std::unordered_set<int> unique_ids(ids.begin(), ids.end()); // Use a set to avoid counting duplicates.\n",
    "    for (int id : {8,9,10,11,12,13}) {\n",
    "        if (unique_ids.count(id)) {\n",
    "            counts[id]++; // Increment count for each detector found.\n",
    "        }\n",
    "    }\n",
    "}, {\"apv_id\"});\n",
    "\n",
    "// Get the number of entries where detector 13 was hit to calculate efficiencies.\n",
    "double N = filtered.Count().GetValue();\n",
    "\n",
    "std::cout << \"number of entries where detector 13 was hit: \" << N << std::endl;"
   ]
  },
  {
   "cell_type": "markdown",
   "metadata": {},
   "source": [
    "[Count](https://root.cern/doc/master/classROOT_1_1RDF_1_1RInterface.html#a876bfce418c82a93caf2b143c9c08704)\n",
    "Return the number of entries where detector 13 was hit to calculate efficiencies."
   ]
  },
  {
   "cell_type": "markdown",
   "metadata": {},
   "source": [
    "**Efficiency Calculation**\n",
    "\n",
    "1. **Conditional Operator (Ternary Operator):** The condition checked is `n > 0`, which verifies if there are any valid events (where detector 13 is activated). If `n` is greater than 0, it proceeds with the calculation of the efficiency. If `n` is 0 (indicating no such events were found), it directly assigns 0 to avoid division by zero, which would result in a runtime error.\n",
    "2. **Division for Efficiency Calculation:** \n",
    "    * **`counts[id]`:** This is the number of times the particular detector (identified by `id`) was activated in those events where detector 13 was also activated. It's taken from a map (`counts`) where each detector's ID is mapped to its activation count.\n",
    "    * **`n`:** Represents the total number of events where detector 13 was detected. This acts as the denominator in the efficiency calculation.\n",
    "3. **Type Casting:**\n",
    "    * **`static_cast<double>(counts[id])`**: This part of the code is casting the count from `int` (which is the type of `counts[id]`) to `double`. This cast is necessary to ensure floating-point division. If this cast wasn't there, and both `counts[id]` and `n` were integers, the division would perform integer division, which discards the decimal part and could lead to incorrect efficiency calculations.\n",
    "\n",
    "So, the condition; calculates the efficiency as the fraction of events where the specific detector was activated out of the events where detector 13 was activated, ensuring that it handles cases where there are no valid events by setting efficiency to 0. Then, it print each efficiency.\n"
   ]
  },
  {
   "cell_type": "code",
   "execution_count": 7,
   "metadata": {},
   "outputs": [
    {
     "name": "stdout",
     "output_type": "stream",
     "text": [
      "Detector 8\tCounts 12337\tErr Counts 111.07\tEfficiencies 82.80%\tError Eff 0.31%\n",
      "Detector 9\tCounts 11240\tErr Counts 106.02\tEfficiencies 75.44%\tError Eff 0.35%\n",
      "Detector 10\tCounts 8089\tErr Counts 89.94\tEfficiencies 54.29%\tError Eff 0.41%\n",
      "Detector 11\tCounts 11169\tErr Counts 105.68\tEfficiencies 74.96%\tError Eff 0.35%\n",
      "Detector 12\tCounts 7587\tErr Counts 87.10\tEfficiencies 50.92%\tError Eff 0.41%\n",
      "Detector 13\tCounts 14900\tErr Counts 122.07\tEfficiencies 100.00%\tError Eff 0.00%\n"
     ]
    }
   ],
   "source": [
    "// Output the efficiency results and their errors for each detector.\n",
    "for (int id : {8,9,10,11,12,13}) {\n",
    "    int n = counts[id];\n",
    "    double efficiency = N > 0 ? (n / N) * 100 : 0; // Calculate efficiency as a percentage.\n",
    "    double error = N > 0 ? (1 / sqrt(N)) * sqrt(n / N * (1 - n / N)) * 100 : 0; // Calculate error as a percentage.\n",
    "\n",
    "    // Print counts as integers without decimal places\n",
    "    std::cout << \"Detector \" << id << \"\\t\" << \"Counts \" << n << \"\\t\"; // Display count as an integer\n",
    "\n",
    "    // Set fixed point and two decimal places for efficiencies and errors\n",
    "    std::cout << std::fixed << std::setprecision(2) \n",
    "            << \"Err Counts \" << sqrt(n) << \"\\t\" << \"Efficiencies \" << efficiency << \"%\\t\" << \"Error Eff \" << error << \"%\" << std::endl;\n",
    "}"
   ]
  }
 ],
 "metadata": {
  "kernelspec": {
   "display_name": "ROOT C++",
   "language": "c++",
   "name": "root"
  },
  "language_info": {
   "codemirror_mode": "text/x-c++src",
   "file_extension": ".C",
   "mimetype": " text/x-c++src",
   "name": "c++"
  }
 },
 "nbformat": 4,
 "nbformat_minor": 2
}
