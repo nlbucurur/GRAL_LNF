{
 "cells": [
  {
   "cell_type": "code",
   "execution_count": null,
   "metadata": {
    "vscode": {
     "languageId": "python"
    }
   },
   "outputs": [],
   "source": [
    "#include <iostream>\n",
    "#include <vector>\n",
    "#include <algorithm>           // Include for std::max_element\n",
    "#include <cmath>               // Include for std::sqrt function\n",
    "#include <map>\n",
    "#include <ROOT/RDataFrame.hxx> // For modern data frame tool\n",
    "#include <TH1F.h>\n",
    "#include <TH1I.h>\n",
    "#include <TCanvas.h>"
   ]
  },
  {
   "cell_type": "code",
   "execution_count": 13,
   "metadata": {},
   "outputs": [],
   "source": [
    "// Open the ROOT file containing the tree.\n",
    "    TFile *file = TFile::Open(\"../Data/run6578.root\");\n",
    "    if (!file || file->IsZombie()) { // Check if the file is opened successfully.\n",
    "        std::cerr << \"Error opening file or file not found.\" << std::endl;\n",
    "        return;\n",
    "    }\n",
    "\n",
    "    // Retrieve the tree named \"raw\" from the file.\n",
    "    TTree *tree = (TTree*)file->Get(\"raw\");\n",
    "    if (!tree) { // Check if the tree exists.\n",
    "        std::cerr << \"Tree 'raw' not found in file.\" << std::endl;\n",
    "        file->Close(); // Close the file if the tree is not found.\n",
    "        return; // Exit the function.\n",
    "    }"
   ]
  },
  {
   "cell_type": "markdown",
   "metadata": {},
   "source": [
    "## Definitions"
   ]
  },
  {
   "cell_type": "code",
   "execution_count": 14,
   "metadata": {},
   "outputs": [],
   "source": [
    "// Create a data frame from the TTree for easier processing.\n",
    "ROOT::RDataFrame df(*tree);\n",
    "\n",
    "std::vector<int> ids = {8,9,10,11,12,13};\n",
    "\n",
    "// Map to store a histogram for each detector ID\n",
    "std::map<int, TH1F*> histogramsQ;\n",
    "std::map<int, TH1F*> histogramsTQ;\n",
    "std::map<int, TH1I*> histogramsHits;\n",
    "\n",
    "for (int id : ids) {\n",
    "    histogramsHits[id] = new TH1I(Form(\"hCounts_%d\", id),\n",
    "                                    Form(\"Counts of Detector %d per Event;Number of hits;Number of Events\", id),\n",
    "                                    10, 0, 10);\n",
    "\n",
    "    histogramsQ[id] = new TH1F(Form(\"hMaxQ_%d\", id),\n",
    "                                Form(\"Maximum Charge of Detector %d;Charge (ADC);Number of Events\", id),\n",
    "                                200, 0, 2000);\n",
    "\n",
    "    histogramsTQ[id] = new TH1F(Form(\"hSumMaxCharge_%d\", id), \n",
    "                                Form(\"Sum of Maximum Charges for Detector %d;Charge;Number of Events\", id), \n",
    "                                200, 0, 2000);\n",
    "}"
   ]
  },
  {
   "cell_type": "markdown",
   "metadata": {},
   "source": [
    "## Preselection\n",
    "\n",
    "Selection of events with detector id 13 in them."
   ]
  },
  {
   "cell_type": "code",
   "execution_count": 15,
   "metadata": {},
   "outputs": [],
   "source": [
    "// Lambda function to check if detector with id 13 is activated in the event.\n",
    "auto hasDetector13 = [](const std::vector<unsigned int>& ids) {\n",
    "    return std::find(ids.begin(), ids.end(), 13) != ids.end();\n",
    "};\n",
    "\n",
    "// Filter the data frame to include only those events where detector 13 is activated.\n",
    "auto filtered = df.Filter(hasDetector13, {\"apv_id\"});"
   ]
  },
  {
   "cell_type": "markdown",
   "metadata": {},
   "source": [
    "## Hits"
   ]
  },
  {
   "cell_type": "code",
   "execution_count": 16,
   "metadata": {},
   "outputs": [
    {
     "name": "stderr",
     "output_type": "stream",
     "text": [
      "Warning in <TCanvas::Constructor>: Deleting canvas with same name: canvas_8\n",
      "Warning in <TCanvas::Constructor>: Deleting canvas with same name: canvas_9\n",
      "Warning in <TCanvas::Constructor>: Deleting canvas with same name: canvas_10\n",
      "Warning in <TCanvas::Constructor>: Deleting canvas with same name: canvas_11\n",
      "Warning in <TCanvas::Constructor>: Deleting canvas with same name: canvas_12\n",
      "Warning in <TCanvas::Constructor>: Deleting canvas with same name: canvas_13\n"
     ]
    }
   ],
   "source": [
    "/**********/\n",
    "/** Hits **/\n",
    "/**********/\n",
    "\n",
    "filtered.Foreach([&](const std::vector<unsigned int>& apv_id) {\n",
    "    std::map<int, int> hitsCount;\n",
    "    for (int id : ids) {\n",
    "        hitsCount[id] = std::count(apv_id.begin(), apv_id.end(), id);\n",
    "        histogramsHits[id]->Fill(hitsCount[id]);\n",
    "    }\n",
    "}, {\"apv_id\"});\n",
    "\n",
    "// Draw and save each histogram\n",
    "for (int id : ids) {\n",
    "    TCanvas *canvas = new TCanvas(Form(\"canvas_%d\", id), Form(\"Hits in Detector %d\", id), 800, 600);\n",
    "    histogramsHits[id]->Draw();\n",
    "}"
   ]
  },
  {
   "cell_type": "markdown",
   "metadata": {},
   "source": [
    "<table border=\"0\" style=\"border-collapse: collapse;\">\n",
    "  <tr>\n",
    "    <td style=\"padding:5px;\"><img src=\"../Figures/hits_detector_8.png\" width=\"100%\"></td>\n",
    "    <td style=\"padding:5px;\"><img src=\"../Figures/hits_detector_9.png\" width=\"100%\"></td>\n",
    "    <td style=\"padding:5px;\"><img src=\"../Figures/hits_detector_10.png\" width=\"100%\"></td>\n",
    "  </tr>\n",
    "  <tr>\n",
    "    <td style=\"padding:5px;\"><img src=\"../Figures/hits_detector_11.png\" width=\"100%\"></td>\n",
    "    <td style=\"padding:5px;\"><img src=\"../Figures/hits_detector_12.png\" width=\"100%\"></td>\n",
    "    <td style=\"padding:5px;\"><img src=\"../Figures/hits_detector_13.png\" width=\"100%\"></td>\n",
    "  </tr>\n",
    "</table>\n"
   ]
  },
  {
   "cell_type": "markdown",
   "metadata": {},
   "source": [
    "## Maximum charge"
   ]
  },
  {
   "cell_type": "code",
   "execution_count": 17,
   "metadata": {},
   "outputs": [
    {
     "name": "stderr",
     "output_type": "stream",
     "text": [
      "Warning in <TCanvas::Constructor>: Deleting canvas with same name: canvas_8\n",
      "Warning in <TCanvas::Constructor>: Deleting canvas with same name: canvas_9\n",
      "Warning in <TCanvas::Constructor>: Deleting canvas with same name: canvas_10\n",
      "Warning in <TCanvas::Constructor>: Deleting canvas with same name: canvas_11\n",
      "Warning in <TCanvas::Constructor>: Deleting canvas with same name: canvas_12\n",
      "Warning in <TCanvas::Constructor>: Deleting canvas with same name: canvas_13\n"
     ]
    }
   ],
   "source": [
    "/********************/\n",
    "/** Charge Maximum **/\n",
    "/********************/\n",
    "\n",
    "filtered.Foreach([&](const std::vector<unsigned int>& apv_id, const std::vector<std::vector<short>>& apv_q) {\n",
    "    for (size_t i = 0; i < apv_id.size(); i++) {\n",
    "        int current_id = apv_id[i];\n",
    "        if (histogramsQ.count(current_id) > 0 && histogramsQ[current_id] != nullptr) {\n",
    "            short maxQ = *std::max_element(apv_q[i].begin(), apv_q[i].end());\n",
    "            histogramsQ[current_id]->Fill(maxQ);\n",
    "        }\n",
    "    }   \n",
    "}, {\"apv_id\", \"apv_q\"});\n",
    "\n",
    "// Draw and save each histogram\n",
    "for (int id : ids) {\n",
    "    TCanvas *canvas1 = new TCanvas(Form(\"canvas_%d\", id), Form(\"Histogram of Maximum Charge for Detector %d\", id), 900, 600);\n",
    "    histogramsQ[id]->Draw();\n",
    "}"
   ]
  },
  {
   "cell_type": "markdown",
   "metadata": {},
   "source": [
    "<table border=\"0\" style=\"border-collapse: collapse;\">\n",
    "  <tr>\n",
    "    <td style=\"padding:5px;\"><img src=\"../Figures/maxQ_detector_8.png\" width=\"100%\"></td>\n",
    "    <td style=\"padding:5px;\"><img src=\"../Figures/maxQ_detector_9.png\" width=\"100%\"></td>\n",
    "    <td style=\"padding:5px;\"><img src=\"../Figures/maxQ_detector_10.png\" width=\"100%\"></td>\n",
    "  </tr>\n",
    "  <tr>\n",
    "    <td style=\"padding:5px;\"><img src=\"../Figures/maxQ_detector_11.png\" width=\"100%\"></td>\n",
    "    <td style=\"padding:5px;\"><img src=\"../Figures/maxQ_detector_12.png\" width=\"100%\"></td>\n",
    "    <td style=\"padding:5px;\"><img src=\"../Figures/maxQ_detector_13.png\" width=\"100%\"></td>\n",
    "  </tr>\n",
    "</table>\n"
   ]
  },
  {
   "cell_type": "code",
   "execution_count": 18,
   "metadata": {},
   "outputs": [
    {
     "name": "stderr",
     "output_type": "stream",
     "text": [
      "Warning in <TCanvas::Constructor>: Deleting canvas with same name: canvas_8\n",
      "Warning in <TCanvas::Constructor>: Deleting canvas with same name: canvas_9\n",
      "Warning in <TCanvas::Constructor>: Deleting canvas with same name: canvas_10\n",
      "Warning in <TCanvas::Constructor>: Deleting canvas with same name: canvas_11\n",
      "Warning in <TCanvas::Constructor>: Deleting canvas with same name: canvas_12\n",
      "Warning in <TCanvas::Constructor>: Deleting canvas with same name: canvas_13\n"
     ]
    }
   ],
   "source": [
    "/************************/\n",
    "/** Maximum Charge Sum **/\n",
    "/************************/\n",
    "\n",
    "filtered.Foreach([&](const std::vector<unsigned int>& apv_id, const std::vector<std::vector<short>>& apv_q) {\n",
    "    std::map<int, double> sumMaxCharges; // Map to store the sum of max charges for each ID in this event\n",
    "\n",
    "    for (size_t i = 0; i < apv_id.size(); ++i) {\n",
    "        int current_id = apv_id[i];\n",
    "        if (histogramsTQ.find(current_id) != histogramsTQ.end()) { // Check if we have a histogram for this ID\n",
    "            const auto& charges = apv_q[i];\n",
    "            if (!charges.empty()) {\n",
    "                short maxCharge = *std::max_element(charges.begin(), charges.end());\n",
    "                sumMaxCharges[current_id] += maxCharge; // Add max charge to sum for this detector\n",
    "            }\n",
    "        }\n",
    "    }\n",
    "\n",
    "    // Fill histograms with the sum of maximum charges for each relevant detector\n",
    "    for (const auto& sum : sumMaxCharges) {\n",
    "        histogramsTQ[sum.first]->Fill(sum.second);\n",
    "    }\n",
    "}, {\"apv_id\", \"apv_q\"});\n",
    "\n",
    "// Draw and save each histogram\n",
    "    for (int id : ids) {\n",
    "        TCanvas *canvas2 = new TCanvas(Form(\"canvas_%d\", id), Form(\"Histogram of Sum of Maximum Charges for Detector %d\", id), 900, 600);\n",
    "        histogramsTQ[id]->Draw();\n",
    "        \n",
    "    }"
   ]
  },
  {
   "cell_type": "markdown",
   "metadata": {},
   "source": [
    "<table border=\"0\" style=\"border-collapse: collapse;\">\n",
    "  <tr>\n",
    "    <td style=\"padding:5px;\"><img src=\"../Figures/TotalQ_detector_8.png\" width=\"100%\"></td>\n",
    "    <td style=\"padding:5px;\"><img src=\"../Figures/TotalQ_detector_9.png\" width=\"100%\"></td>\n",
    "    <td style=\"padding:5px;\"><img src=\"../Figures/TotalQ_detector_10.png\" width=\"100%\"></td>\n",
    "  </tr>\n",
    "  <tr>\n",
    "    <td style=\"padding:5px;\"><img src=\"../Figures/TotalQ_detector_11.png\" width=\"100%\"></td>\n",
    "    <td style=\"padding:5px;\"><img src=\"../Figures/TotalQ_detector_12.png\" width=\"100%\"></td>\n",
    "    <td style=\"padding:5px;\"><img src=\"../Figures/TotalQ_detector_13.png\" width=\"100%\"></td>\n",
    "  </tr>\n",
    "</table>"
   ]
  }
 ],
 "metadata": {
  "kernelspec": {
   "display_name": "ROOT C++",
   "language": "c++",
   "name": "root"
  },
  "language_info": {
   "codemirror_mode": "text/x-c++src",
   "file_extension": ".C",
   "mimetype": " text/x-c++src",
   "name": "c++"
  }
 },
 "nbformat": 4,
 "nbformat_minor": 2
}
